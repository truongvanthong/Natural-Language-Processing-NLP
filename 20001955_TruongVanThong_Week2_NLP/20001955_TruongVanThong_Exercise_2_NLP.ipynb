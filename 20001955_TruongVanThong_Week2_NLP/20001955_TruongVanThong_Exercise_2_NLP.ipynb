{
 "cells": [
  {
   "cell_type": "markdown",
   "metadata": {},
   "source": [
    "# Trương Văn Thông - 20001955\n",
    "# Exercise 2 - NLP"
   ]
  },
  {
   "cell_type": "markdown",
   "metadata": {},
   "source": [
    "## Phần 1: Hoàn thành các bài tập trên lớp"
   ]
  },
  {
   "cell_type": "markdown",
   "metadata": {},
   "source": [
    "# Import các thư viện cần thiết"
   ]
  },
  {
   "cell_type": "code",
   "execution_count": 1,
   "metadata": {},
   "outputs": [],
   "source": [
    "import nltk\n",
    "# nltk.download('punkt')\n",
    "from nltk.tokenize import word_tokenize\n",
    "import matplotlib.pyplot as plt\n",
    "import seaborn as sns\n",
    "import random\n",
    "import string\n",
    "import math"
   ]
  },
  {
   "cell_type": "markdown",
   "metadata": {},
   "source": [
    "### 1. Giải và biện luận Phương trình bậc 2 $ax^2 + bx+ c=0$ (Vào/Ra, Sử dụng thư viện, Cấu trúc if và Giải thuật biện luận PT bậc 2):"
   ]
  },
  {
   "cell_type": "code",
   "execution_count": 7,
   "metadata": {},
   "outputs": [
    {
     "name": "stdout",
     "output_type": "stream",
     "text": [
      "Phương trình vừa nhập: 12.0x^2 + 23.0x + 17.0 = 0\n",
      "Phương trình vô nghiệm\n"
     ]
    }
   ],
   "source": [
    "# Phương trình bậc 2 có dạng: ax^2 + bx + c = 0\n",
    "a = float(input(\"Nhập a: \"))\n",
    "b = float(input(\"Nhập b: \"))\n",
    "c = float(input(\"Nhập c: \"))\n",
    "\n",
    "print(\"Phương trình vừa nhập: {}x^2 + {}x + {} = 0\".format(a, b, c))\n",
    "\n",
    "if a == 0:\n",
    "    if b == 0:\n",
    "        if c == 0:\n",
    "            print(\"Phương trình vô số nghiệm\")\n",
    "        else:\n",
    "            print(\"Phương trình vô nghiệm\")\n",
    "    else: \n",
    "        print(\"Phương trình có 1 nghiệm: x = {:.2f}\".format(-c/b))\n",
    "else:\n",
    "    delta = b ** 2 - 4 * a * c\n",
    "    if delta < 0:\n",
    "        print(\"Phương trình vô nghiệm\")\n",
    "    elif delta == 0:\n",
    "        print(\"Phương trình có nghiệm kép: x = {:.2f}\".format(-b / (2 * a)))\n",
    "    else:\n",
    "        x1 = (-b + math.sqrt(delta)) / (2 * a)\n",
    "        x2 = (-b - math.sqrt(delta)) / (2 * a)\n",
    "        print(\"Phương trình có 2 nghiệm phân biệt: x1 = {:.2f}, x2 = {:.2f}\".format(x1, x2))"
   ]
  },
  {
   "cell_type": "markdown",
   "metadata": {},
   "source": [
    "### 2. Nhập vào số n, kiểm tra n có phải là số nguyên tố hay không (Sử dụng For)"
   ]
  },
  {
   "cell_type": "code",
   "execution_count": 8,
   "metadata": {},
   "outputs": [
    {
     "name": "stdout",
     "output_type": "stream",
     "text": [
      "10 không phải số nguyên tố\n"
     ]
    }
   ],
   "source": [
    "# Kiểm tra n phải số nguyên tố hay không\n",
    "\n",
    "n = int(input(\"Nhập n: \"))\n",
    "\n",
    "if n < 2:\n",
    "    print(\"Không phải số nguyên tố\")\n",
    "else:\n",
    "    check = True\n",
    "    for i in range(2, n):\n",
    "        if n % i == 0:\n",
    "            check = False\n",
    "            break\n",
    "    if check:\n",
    "        print(n ,\"là số nguyên tố\")\n",
    "    else:\n",
    "        print(n ,\"không phải số nguyên tố\")"
   ]
  },
  {
   "cell_type": "markdown",
   "metadata": {},
   "source": [
    "### 3. Chuyển đổi 2 thành hàm (Function)"
   ]
  },
  {
   "cell_type": "code",
   "execution_count": 9,
   "metadata": {},
   "outputs": [
    {
     "name": "stdout",
     "output_type": "stream",
     "text": [
      "Phương trình vô nghiệm\n",
      "Phương trình có 2 nghiệm phân biệt: x1 = -0.27, x2 = -3.73\n",
      "Phương trình có một nghiệm: x = -1.00\n"
     ]
    }
   ],
   "source": [
    "# Hàm tính phương trình bậc 2: ax^2 + bx + c = 0\n",
    "\n",
    "def tinhPTB2(a, b, c):\n",
    "    if a == 0:\n",
    "        if b == 0:\n",
    "            return \"Phương trình vô nghiệm\"\n",
    "        else:\n",
    "            x = -c / b\n",
    "            return \"Phương trình có một nghiệm: x = {:.2f}\".format(x)\n",
    "    else:\n",
    "        delta = b**2 - 4*a*c\n",
    "        if delta < 0:\n",
    "            return \"Phương trình vô nghiệm\"\n",
    "        elif delta == 0:\n",
    "            x = -b / (2 * a)\n",
    "            return \"Phương trình có nghiệm kép: x1 = x2 = {:.2f}\".format(x)\n",
    "        else:\n",
    "            x1 = (-b + math.sqrt(delta)) / (2 * a)\n",
    "            x2 = (-b - math.sqrt(delta)) / (2 * a)\n",
    "            return \"Phương trình có 2 nghiệm phân biệt: x1 = {:.2f}, x2 = {:.2f}\".format(x1, x2)\n",
    "\n",
    "# Test hàm tinhPTB2\n",
    "print(tinhPTB2(0, 0, 0))\n",
    "print(tinhPTB2(1, 4, 1))\n",
    "print(tinhPTB2(0, 1, 1))"
   ]
  },
  {
   "cell_type": "code",
   "execution_count": 10,
   "metadata": {},
   "outputs": [
    {
     "name": "stdout",
     "output_type": "stream",
     "text": [
      "10 không phải là số nguyên tố\n"
     ]
    }
   ],
   "source": [
    "# Hàm kiểm tra n có phải là số nguyên tố hay không\n",
    "def isPrime(n):\n",
    "    if n < 2:\n",
    "        return False\n",
    "    for i in range(2, n):\n",
    "        if n % i == 0:\n",
    "            return False\n",
    "    return True\n",
    "\n",
    "# Test hàm isPrime\n",
    "n = int(input(\"Nhập n = \"))\n",
    "if isPrime(n):\n",
    "    print(n, \"là số nguyên tố\")\n",
    "else:\n",
    "    print(n, \"không phải là số nguyên tố\")"
   ]
  },
  {
   "cell_type": "markdown",
   "metadata": {},
   "source": [
    "### 4. In ra 10 số nguyên tố lớn hơn n, sử dụng hàm ở 3 (vòng lặp while)"
   ]
  },
  {
   "cell_type": "code",
   "execution_count": 11,
   "metadata": {},
   "outputs": [
    {
     "name": "stdout",
     "output_type": "stream",
     "text": [
      "10 số nguyên tố lớn hơn 1 là: \n",
      "2 3 5 7 11 13 17 19 23 29 "
     ]
    }
   ],
   "source": [
    "# In ra 10 số nguyên tố lớn hơn n\n",
    "n = int(input(\"Nhập số nguyên dương n: \"))\n",
    "\n",
    "print(\"10 số nguyên tố lớn hơn {} là: \".format(n))\n",
    "count = 0\n",
    "while count < 10:\n",
    "    if isPrime(n):\n",
    "        print(n, end = \" \")\n",
    "        count += 1\n",
    "    n += 1"
   ]
  },
  {
   "cell_type": "markdown",
   "metadata": {},
   "source": [
    "### 5. Chuyển đổi 3 thành thư viện giống math.sqrt và giải quyết bài toán: nhập vào 2 số a,b in ra các số nguyên tố trong khoảng [a,b]"
   ]
  },
  {
   "cell_type": "code",
   "execution_count": 12,
   "metadata": {},
   "outputs": [
    {
     "name": "stdout",
     "output_type": "stream",
     "text": [
      "Các số nguyên tố trong khoảng [1, 100] là: \n",
      "2 3 5 7 11 13 17 19 23 29 31 37 41 43 47 53 59 61 67 71 73 79 83 89 97 "
     ]
    }
   ],
   "source": [
    "import thuVien # thuVien.py\n",
    "\n",
    "# Nhập vào 2 số a, b in ra các số nguyên tố trong khoảng [a, b]\n",
    "a = int(input(\"Nhập số a: \"))\n",
    "b = int(input(\"Nhập số b: \"))\n",
    "\n",
    "print(\"Các số nguyên tố trong khoảng [{}, {}] là: \".format(a, b))\n",
    "for i in range(a, b+1):\n",
    "    if thuVien.isPrime(i):\n",
    "        print(i, end=\" \")"
   ]
  },
  {
   "cell_type": "markdown",
   "metadata": {},
   "source": [
    "### 6. Sử dụng Advanced Function để sắp xếp các cạnh cho đồ thị có trọng số với dữ liệu đầu vào là Đồ thị là các mảng nhiều chiều [đỉnh nguồn, đỉnh đích, Trọng số] ra là các cạnh được sắp xếp theo thứ tự giảm dần. Yêu cầu chỉ sử dụng 3 dòng lệnh: \n",
    "    1. Vào dữ liệu, \n",
    "    2. Sử dụng Lambda + Sort\n",
    "    3. In ra kết quả"
   ]
  },
  {
   "cell_type": "code",
   "execution_count": 13,
   "metadata": {},
   "outputs": [
    {
     "name": "stdout",
     "output_type": "stream",
     "text": [
      "Các cạnh ban đầu: \n",
      " [[1, 2, 1], [1, 3, 5], [2, 3, 4], [3, 4, 7]]\n",
      "Các cạnh được sắp xếp theo thứ tự giảm dần của trọng số: \n",
      " [[3, 4, 7], [1, 3, 5], [2, 3, 4], [1, 2, 1]]\n"
     ]
    }
   ],
   "source": [
    "# 1. Vào dữ liệu\n",
    "graph = [[1, 2, 1], [1, 3, 5], [2, 3, 4], [3, 4, 7]]\n",
    "print(\"Các cạnh ban đầu: \\n\", graph)\n",
    "\n",
    "# 2. Sử dụng Lambda + Sort\n",
    "graph.sort(key = lambda x: x[2], reverse = True) \n",
    "\n",
    "# 3. In ra kết quả\n",
    "print(\"Các cạnh được sắp xếp theo thứ tự giảm dần của trọng số: \\n\", graph)"
   ]
  },
  {
   "cell_type": "markdown",
   "metadata": {},
   "source": [
    "### 7. Xây dựng cấu trúc dữ liệu Stack và sử dụng cấu trúc dữ liệu này để check 1 biểu thức có đủ dấu hay không (giả sử có tối đa 3 loại ngoặc). <br>\n",
    "`In giá trị phép toán ra màn hình` <br>\n",
    "- Ví dụ: \n",
    "    - (4+3 : thiếu dấu\n",
    "    - (7+[(8+9)-5]) đủ dấu – Kết quả: 19\n",
    "    - (4+3))]: dư dấu"
   ]
  },
  {
   "cell_type": "code",
   "execution_count": 14,
   "metadata": {},
   "outputs": [
    {
     "name": "stdout",
     "output_type": "stream",
     "text": [
      "Biểu thức: (4+3\n",
      "Biểu thức thiếu dấu hoặc dư dấu\n",
      "\n",
      "Biểu thức: (7+[(8+9)-5])\n",
      "Biểu thức hợp lệ - Kết quả: 19\n",
      "\n",
      "Biểu thức: (4+3))]\n",
      "Biểu thức thiếu dấu hoặc dư dấu\n",
      "\n"
     ]
    }
   ],
   "source": [
    "class Stack:\n",
    "    def __init__(self):\n",
    "        self.items = []\n",
    "\n",
    "    def push(self, item):\n",
    "        self.items.append(item)\n",
    "\n",
    "    def pop(self):\n",
    "        if not self.is_empty():\n",
    "            return self.items.pop()\n",
    "\n",
    "    def peek(self):\n",
    "        if not self.is_empty():\n",
    "            return self.items[-1]\n",
    "\n",
    "    def is_empty(self):\n",
    "        return len(self.items) == 0\n",
    "\n",
    "    def size(self):\n",
    "        return len(self.items)\n",
    "\n",
    "def is_valid_expression(expression):\n",
    "    stack = Stack()\n",
    "    opening_brackets = \"([{\"\n",
    "    closing_brackets = \")]}\"\n",
    "    bracket_pairs = {\")\": \"(\", \"]\": \"[\", \"}\": \"{\"}\n",
    "\n",
    "    for char in expression:\n",
    "        if char in opening_brackets:\n",
    "            stack.push(char)\n",
    "        elif char in closing_brackets:\n",
    "            if stack.is_empty() or stack.peek() != bracket_pairs[char]:\n",
    "                return False\n",
    "            stack.pop()\n",
    "\n",
    "    return stack.is_empty()\n",
    "\n",
    "def evaluate_expression(expression):\n",
    "    if not is_valid_expression(expression):\n",
    "        return \"Biểu thức không hợp lệ\"\n",
    "\n",
    "    stack = Stack()\n",
    "    operators = \"+-*/\"\n",
    "    current_number = 0\n",
    "    current_operator = \"+\"\n",
    "\n",
    "    for char in expression:\n",
    "        if char.isdigit():\n",
    "            current_number = current_number * 10 + int(char)\n",
    "        elif char in operators:\n",
    "            if current_operator == \"+\":\n",
    "                stack.push(current_number)\n",
    "            elif current_operator == \"-\":\n",
    "                stack.push(-current_number)\n",
    "            elif current_operator == \"*\":\n",
    "                prev_number = stack.pop()\n",
    "                stack.push(prev_number * current_number)\n",
    "            elif current_operator == \"/\":\n",
    "                prev_number = stack.pop()\n",
    "                stack.push(prev_number / current_number)\n",
    "            current_number = 0\n",
    "            current_operator = char\n",
    "        elif char == \"(\":\n",
    "            stack.push(current_operator)\n",
    "            current_operator = \"+\"\n",
    "        elif char == \")\":\n",
    "            if current_operator == \"+\":\n",
    "                stack.push(current_number)\n",
    "            elif current_operator == \"-\":\n",
    "                stack.push(-current_number)\n",
    "            current_number = 0\n",
    "            temp_result = 0\n",
    "            while not stack.is_empty() and isinstance(stack.peek(), int):\n",
    "                temp_result += stack.pop()\n",
    "            temp_operator = stack.pop()\n",
    "            if temp_operator == \"-\":\n",
    "                temp_result = -temp_result\n",
    "            stack.push(temp_result)\n",
    "\n",
    "    result = sum(stack.items)\n",
    "    return result\n",
    "\n",
    "# Các ví dụ kiểm tra\n",
    "expressions = [\n",
    "    \"(4+3\",  # Thiếu dấu đóng\n",
    "    \"(7+[(8+9)-5])\",  # Biểu thức hợp lệ, kết quả: 19\n",
    "    \"(4+3))]\",  # Dư dấu đóng\n",
    "]\n",
    "\n",
    "for expr in expressions:\n",
    "    print(f\"Biểu thức: {expr}\")\n",
    "    if is_valid_expression(expr):\n",
    "        result = evaluate_expression(expr)\n",
    "        print(f\"Biểu thức hợp lệ - Kết quả: {result}\")\n",
    "    else:\n",
    "        print(\"Biểu thức thiếu dấu hoặc dư dấu\")\n",
    "    print()"
   ]
  },
  {
   "cell_type": "markdown",
   "metadata": {},
   "source": [
    "## Phần 2: Hoàn thành các bài tập sau:"
   ]
  },
  {
   "cell_type": "markdown",
   "metadata": {},
   "source": [
    "### 09. Đảo ngược xâu ký tự <br>\n",
    "Hãy đảo ngược xâu ký tự “stressed” (theo thứ tự từ cuối xâu đến đầu xâu ký tự)."
   ]
  },
  {
   "cell_type": "code",
   "execution_count": 15,
   "metadata": {},
   "outputs": [
    {
     "name": "stdout",
     "output_type": "stream",
     "text": [
      "Cách 1 sử dụng cú pháp [::-1]:\n",
      "Chuỗi 'stressed' đảo ngược là:  desserts\n",
      "--------------------------------------------\n",
      "Cách 2 sử dụng hàm reversed():\n",
      "Chuỗi 'stressed' đảo ngược là:  desserts\n",
      "--------------------------------------------\n"
     ]
    }
   ],
   "source": [
    "str = \"stressed\"\n",
    "print(\"Cách 1 sử dụng cú pháp [::-1]:\")\n",
    "print(\"Chuỗi 'stressed' đảo ngược là: \", str[::-1])\n",
    "print(\"--------------------------------------------\")\n",
    "print(\"Cách 2 sử dụng hàm reversed():\")\n",
    "print(\"Chuỗi 'stressed' đảo ngược là: \", ''.join(reversed(str)))\n",
    "print(\"--------------------------------------------\")"
   ]
  },
  {
   "cell_type": "markdown",
   "metadata": {},
   "source": [
    "### 10. Trích xuất ký tự từ xâu ký tự <br>\n",
    "Từ xâu ký tự **“MpyaktQrBoilk RCSahr”**, hãy trích xuất các ký tự ở vị trí\n",
    "$2,4,6,8,10,12,14,16,18,20$ <br> và kết hợp theo thứ tự đó để tạo thành 1 xâu ký tự mới (ký tự\n",
    "space cũng được tính, các ký tự được đánh số từ $1$)."
   ]
  },
  {
   "cell_type": "code",
   "execution_count": 16,
   "metadata": {},
   "outputs": [
    {
     "name": "stdout",
     "output_type": "stream",
     "text": [
      "0 : M\n",
      "1 : p\n",
      "2 : y\n",
      "3 : a\n",
      "4 : k\n",
      "5 : t\n",
      "6 : Q\n",
      "7 : r\n",
      "8 : B\n",
      "9 : o\n",
      "10 : i\n",
      "11 : l\n",
      "12 : k\n",
      "13 :  \n",
      "14 : R\n",
      "15 : C\n",
      "16 : S\n",
      "17 : a\n",
      "18 : h\n",
      "19 : r\n"
     ]
    }
   ],
   "source": [
    "str = \"MpyaktQrBoilk RCSahr\"\n",
    "\n",
    "# Xem các vị trí của str\n",
    "for i, char in enumerate(str):\n",
    "    print(i,\":\" , char)"
   ]
  },
  {
   "cell_type": "code",
   "execution_count": 17,
   "metadata": {},
   "outputs": [
    {
     "name": "stdout",
     "output_type": "stream",
     "text": [
      "2: p\n",
      "4: a\n",
      "6: t\n",
      "8: r\n",
      "10: o\n",
      "12: l\n",
      "14:  \n",
      "16: C\n",
      "18: a\n",
      "20: r\n",
      "------------------\n"
     ]
    }
   ],
   "source": [
    "# Lấy các vị trí chẵn (2,4,6,8,10,12,14,16,18,20)\n",
    "for i, char in enumerate(str):\n",
    "    if (i+1) % 2 == 0:\n",
    "        print(f'{i+1}: {char}')\n",
    "print('------------------')\n",
    "# Cách 2:\n",
    "# for i in range(1, len(str)+1):\n",
    "#     if i % 2 == 0:\n",
    "#         print(f'{i}: {str[i-1]}')       "
   ]
  },
  {
   "cell_type": "markdown",
   "metadata": {},
   "source": [
    "### 02. Kết hợp hai xâu ký tự <br>\n",
    "Hãy kết hợp hai xâu ký tự “Partrol” và “Car” để tạo thành xâu mới “PatrolCar”."
   ]
  },
  {
   "cell_type": "markdown",
   "metadata": {},
   "source": [
    "- Sử dụng Toán tử $+$"
   ]
  },
  {
   "cell_type": "code",
   "execution_count": 18,
   "metadata": {},
   "outputs": [
    {
     "name": "stdout",
     "output_type": "stream",
     "text": [
      "PartrolCar\n"
     ]
    }
   ],
   "source": [
    "string1 = \"Partrol\"\n",
    "string2 = \"Car\"\n",
    "result = string1 + string2\n",
    "print(result)"
   ]
  },
  {
   "cell_type": "markdown",
   "metadata": {},
   "source": [
    "- Sử dụng Phương thức `join()`"
   ]
  },
  {
   "cell_type": "code",
   "execution_count": 19,
   "metadata": {},
   "outputs": [
    {
     "name": "stdout",
     "output_type": "stream",
     "text": [
      "PartrolCar\n"
     ]
    }
   ],
   "source": [
    "strings = [\"Partrol\", \"Car\"]\n",
    "result = \"\".join(strings)\n",
    "print(result)"
   ]
  },
  {
   "cell_type": "markdown",
   "metadata": {},
   "source": [
    "### 03. Tokenize và thống kê số lượng ký tự của mỗi từ\n",
    "    1. Tokenize câu sau: “Now I need a drink, alcoholic of course, after the heavy\n",
    "    lectures involving quantum mechanics.”\n",
    "    2. Đưa ra danh sách gồm số ký tự alphabet trong mỗi từ theo thứ tự xuất hiện của\n",
    "    từ đó trong câu."
   ]
  },
  {
   "cell_type": "markdown",
   "metadata": {},
   "source": [
    "- Cách 1: Dùng replace và split để tách chuỗi thành list các từ và đếm số lượng từ trong list đó"
   ]
  },
  {
   "cell_type": "code",
   "execution_count": 20,
   "metadata": {},
   "outputs": [
    {
     "name": "stdout",
     "output_type": "stream",
     "text": [
      "['Now', 'I', 'need', 'a', 'drink', 'alcoholic', 'of', 'course', 'after', 'the', 'heavy', 'lectures', 'involving', 'quantum', 'mechanics']\n",
      "[3, 1, 4, 1, 5, 9, 2, 6, 5, 3, 5, 8, 9, 7, 9]\n"
     ]
    }
   ],
   "source": [
    "s = \"Now I need a drink, alcoholic of course, after the heavy lectures involving quantum mechanics.\"\n",
    "s = s.replace(\",\", \"\") # xóa dấu phẩy\n",
    "s = s.replace(\".\", \"\")  # xóa dấu chấm\n",
    "s = s.split(\" \")    # tách chuỗi thành list\n",
    "print(s)    \n",
    "for i in range(len(s)):\n",
    "    s[i] = len(s[i]) \n",
    "print(s)"
   ]
  },
  {
   "cell_type": "markdown",
   "metadata": {},
   "source": [
    "- Cách 2: Dùng thư viện Natural Language Toolkit (NLTK) "
   ]
  },
  {
   "cell_type": "code",
   "execution_count": 21,
   "metadata": {},
   "outputs": [
    {
     "name": "stdout",
     "output_type": "stream",
     "text": [
      "Câu cần tokenize và thống kê: \n",
      "Now I need a drink, alcoholic of course, after the heavy lectures involving quantum mechanics.\n",
      "----------------------------------\n",
      "Danh sách các từ: \n",
      "['Now', 'I', 'need', 'a', 'drink', ',', 'alcoholic', 'of', 'course', ',', 'after', 'the', 'heavy', 'lectures', 'involving', 'quantum', 'mechanics', '.']\n",
      "----------------------------------\n",
      "Danh sách các từ chứa ký tự alphabet: \n",
      "['Now', 'I', 'need', 'a', 'drink', 'alcoholic', 'of', 'course', 'after', 'the', 'heavy', 'lectures', 'involving', 'quantum', 'mechanics']\n",
      "----------------------------------\n",
      "Danh sách số ký tự alphabet trong mỗi từ:\n",
      "[3, 1, 4, 1, 5, 9, 2, 6, 5, 3, 5, 8, 9, 7, 9]\n",
      "----------------------------------\n"
     ]
    }
   ],
   "source": [
    "# Câu cần tokenize và thống kê\n",
    "sentence = \"Now I need a drink, alcoholic of course, after the heavy lectures involving quantum mechanics.\"\n",
    "print(\"Câu cần tokenize và thống kê: \")\n",
    "print(sentence)\n",
    "print(\"----------------------------------\")\n",
    "\n",
    "# Tokenize câu thành danh sách các từ\n",
    "words = word_tokenize(sentence)\n",
    "print(\"Danh sách các từ: \")\n",
    "print(words)\n",
    "print(\"----------------------------------\")\n",
    "   \n",
    "# Loại bỏ dấu câu và chỉ lấy các từ chứa ký tự alphabet\n",
    "alphabet_words = [word for word in words if word.isalpha()]\n",
    "print(\"Danh sách các từ chứa ký tự alphabet: \")\n",
    "print(alphabet_words)\n",
    "print(\"----------------------------------\")\n",
    "\n",
    "# Đưa ra danh sách gồm số ký tự alphabet trong mỗi từ\n",
    "char_counts = [len(word) for word in alphabet_words]\n",
    "print(\"Danh sách số ký tự alphabet trong mỗi từ:\")\n",
    "print(char_counts)\n",
    "print(\"----------------------------------\")"
   ]
  },
  {
   "cell_type": "markdown",
   "metadata": {},
   "source": [
    "### 04. Ký tự thành phần\n",
    "    1. Tokenize câu sau: “Hi He Lied Because Boron Could Not Oxidize Fluorine. New\n",
    "    Nations Might Also Sign Peace Security Clause. Arthur King Can.”\n",
    "    2. Lấy ra ký tự đầu tiên của các từ ở vị trí 1, 5, 6, 7, 8, 9, 15, 16, 19; với các từ còn lại\n",
    "    lấy ra 2 ký tự đầu tiên. Tạo ra một map từ các xâu ký tự được trích ra tới vị trí của\n",
    "    từ trong câu."
   ]
  },
  {
   "cell_type": "code",
   "execution_count": 22,
   "metadata": {},
   "outputs": [
    {
     "name": "stdout",
     "output_type": "stream",
     "text": [
      "Kết quả của MAP:\n",
      "{'H': 1, 'He': 2, 'Li': 3, 'Be': 4, 'B': 5, 'C': 6, 'N': 7, 'O': 8, 'F': 9, 'Ne': 10, 'Na': 11, 'Mi': 12, 'Al': 13, 'Si': 14, 'P': 15, 'S': 16, 'Cl': 17, 'Ar': 18, 'K': 19, 'Ca': 20}\n"
     ]
    },
    {
     "data": {
      "image/png": "[encoded data removed]",
      "text/plain": [
       "<Figure size 1000x600 with 1 Axes>"
      ]
     },
     "metadata": {},
     "output_type": "display_data"
    }
   ],
   "source": [
    "def tokenize_and_create_map(sentence):\n",
    "    words = sentence.split() # Tách câu thành các từ\n",
    "    positions = [1, 5, 6, 7, 8, 9, 15, 16, 19] # Các vị trí cần lấy ký tự đầu tiên\n",
    "    char_map = {} # Khởi tạo map\n",
    "\n",
    "    for i, word in enumerate(words, start=1): # Duyệt qua các từ trong câu\n",
    "        char = word[:2] if i not in positions else word[0] # Lấy ký tự đầu tiên hoặc 2 ký tự đầu tiên\n",
    "        char_map[char] = i # Thêm ký tự vào map\n",
    "\n",
    "    return char_map \n",
    "\n",
    "sentence = \"Hi He Lied Because Boron Could Not Oxidize Fluorine. New Nations Might Also Sign Peace Security Clause. Arthur King Can.\"\n",
    "char_map = tokenize_and_create_map(sentence)\n",
    "print(\"Kết quả của MAP:\")\n",
    "print(char_map)\n",
    "\n",
    "# -------------------VISUALIZATION-------------------\n",
    "# Chuyển đổi dữ liệu map thành DataFrame để sử dụng cho Seaborn\n",
    "import pandas as pd\n",
    "data = pd.DataFrame({'Char': list(char_map.keys()), 'Position': list(char_map.values())})\n",
    "\n",
    "# Sử dụng Seaborn để vẽ\n",
    "sns.set(style=\"whitegrid\")\n",
    "plt.figure(figsize=(10, 6))\n",
    "plot = sns.barplot(x='Char', y='Position', data=data, palette='viridis')\n",
    "\n",
    "# Thêm tiêu đề và nhãn trục\n",
    "plt.title(\"Vị trí của các ký tự trong câu\")\n",
    "plt.xlabel(\"Ký tự\")\n",
    "plt.ylabel(\"Vị trí trong câu\")\n",
    "\n",
    "# Hiển thị biểu đồ\n",
    "plt.show()\n"
   ]
  },
  {
   "cell_type": "markdown",
   "metadata": {},
   "source": [
    "### 05. n-gram\n",
    "    1. Viết hàm sinh ra tất cả các n-gram từ một dãy cho trước (xâu ký tự hoặc danh sách).\n",
    "    2. Sử dụng hàm đã viết, sinh ra word bi-gram và character bi-gram từ câu sau: “I am an NLPer\"\n",
    "\n",
    "   - Lý thuyết: <br>\n",
    "      - **N-gram**:\n",
    "         - Trong xử lý ngôn ngữ tự nhiên, một n-gram là một chuỗi liên tiếp gồm n phần tử từ một chuỗi đầu vào. Phần tử có thể là từ, ký tự hoặc bất kỳ đơn vị ngôn ngữ nào khác (ví dụ: âm tiết).\n",
    "         - N-grams được sử dụng rộng rãi trong xử lý ngôn ngữ tự nhiên để nắm bắt thông tin về sự xuất hiện của các từ hoặc đơn vị ngôn ngữ trong văn bản.\n",
    "         - Các trường hợp đặc biệt của n-gram bao gồm unigram (1-gram), bigram (2-gram), trigram (3-gram), và tùy thuộc vào n, có thể gọi là four-gram, five-gram, và cứ tiếp tục.\n",
    "\n",
    "      - **Word Bi-gram**:\n",
    "         - Word bi-gram là một loại n-gram với n=2, nghĩa là mỗi phần tử trong chuỗi là một từ riêng biệt.\n",
    "         - Ví dụ: Trong câu \"I am an NLPer\", các word bi-gram sẽ là [\"I am\", \"am an\", \"an NLPer\"].\n",
    "\n",
    "      - **Character Bi-gram**:\n",
    "         - Character bi-gram là một loại n-gram với n=2, nghĩa là mỗi phần tử trong chuỗi là một ký tự riêng lẻ.\n",
    "         - Ví dụ: Trong chuỗi \"I am an NLPer\", các character bi-gram sẽ là [\"I \", \" a\", \"am\", \"m \", \" a\", \"an\", \"n \", \" N\", \"NL\", \"LP\", \"Pe\", \"er\"]."
   ]
  },
  {
   "cell_type": "code",
   "execution_count": 23,
   "metadata": {},
   "outputs": [
    {
     "name": "stdout",
     "output_type": "stream",
     "text": [
      "Word Bi-grams: [['I', 'am'], ['am', 'an'], ['an', 'NLPer']]\n",
      "Character Bi-grams: ['I ', ' a', 'am', 'm ', ' a', 'an', 'n ', ' N', 'NL', 'LP', 'Pe', 'er']\n"
     ]
    }
   ],
   "source": [
    "# Hàm tạo n-gram \n",
    "def generate_ngrams(sequence, n):\n",
    "    '''\n",
    "    Hàm sinh ra các n-gram từ một chuỗi cho trước\n",
    "    Input:\n",
    "        sequence: chuỗi đầu vào\n",
    "        n: số lượng từ trong một n-gram\n",
    "    Output:\n",
    "        ngrams: list chứa các n-gram\n",
    "    ''' \n",
    "    ngrams = []\n",
    "    for i in range(len(sequence) - n + 1):\n",
    "        ngrams.append(sequence[i:i+n]) # Thêm n-gram vào list\n",
    "    return ngrams \n",
    "\n",
    "sentence = \"I am an NLPer\" \n",
    "words = sentence.split() \n",
    "\n",
    "# Sinh word bi-gram\n",
    "word_bigrams = generate_ngrams(words, 2)\n",
    "print(\"Word Bi-grams:\", word_bigrams)\n",
    "\n",
    "# Sinh character bi-gram\n",
    "character_bigrams = generate_ngrams(sentence, 2)\n",
    "print(\"Character Bi-grams:\", character_bigrams)"
   ]
  },
  {
   "cell_type": "markdown",
   "metadata": {},
   "source": [
    "### 06. Tập hợp\n",
    "    1. Sinh ra tập X và Y tương ứng là tập các character bi-gram từ hai xâu ký tự\n",
    "    “paraparaparadise” và “paragraph”.\n",
    "    2. Sinh ra các tập hợp union, intersection và difference của X và Y\n",
    "    3. Kiểm tra xem bi-gram ‘se’ có thuộc tập X (Y) hay không?"
   ]
  },
  {
   "cell_type": "code",
   "execution_count": 24,
   "metadata": {},
   "outputs": [
    {
     "name": "stdout",
     "output_type": "stream",
     "text": [
      "Tập X:  {'ra', 'is', 'ar', 'ap', 'ad', 'se', 'di', 'pa'}\n",
      "Tập Y:  {'ra', 'gr', 'ph', 'ag', 'ar', 'ap', 'pa'}\n"
     ]
    }
   ],
   "source": [
    "# Sinh tập charater bi-gram từ một chuỗi\n",
    "def generate_character_bigrams(sentence):\n",
    "    character_bigrams = generate_ngrams(sentence, 2)\n",
    "    return set(character_bigrams)\n",
    "\n",
    "# Xâu ký tự “paraparaparadise” và “paragraph”.\n",
    "string1 = \"paraparaparadise\"\n",
    "string2 = \"paragraph\"\n",
    "\n",
    "# Sinh tập X và Y\n",
    "X = generate_character_bigrams(string1)\n",
    "Y = generate_character_bigrams(string2)\n",
    "\n",
    "# In ra tập X và Y\n",
    "print(\"Tập X: \", X)\n",
    "print(\"Tập Y: \", Y)"
   ]
  },
  {
   "cell_type": "code",
   "execution_count": 25,
   "metadata": {},
   "outputs": [
    {
     "name": "stdout",
     "output_type": "stream",
     "text": [
      "Union của X và Y:  {'ra', 'gr', 'is', 'ph', 'ag', 'ar', 'ap', 'ad', 'se', 'di', 'pa'}\n",
      "Intersection của X và Y:  {'ra', 'ar', 'pa', 'ap'}\n",
      "Difference của X và Y:  {'di', 'is', 'ad', 'se'}\n"
     ]
    }
   ],
   "source": [
    "# Sinh ra các tập hợp union, intersection và difference của X và Y\n",
    "union = X.union(Y)\n",
    "intersection = X.intersection(Y)\n",
    "difference = X.difference(Y)\n",
    "\n",
    "# In ra các tập hợp union, intersection và difference của X và Y\n",
    "print(\"Union của X và Y: \", union)\n",
    "print(\"Intersection của X và Y: \", intersection)\n",
    "print(\"Difference của X và Y: \", difference)"
   ]
  },
  {
   "cell_type": "code",
   "execution_count": 26,
   "metadata": {},
   "outputs": [
    {
     "name": "stdout",
     "output_type": "stream",
     "text": [
      "Bi-gram 'se' có thuộc tập X: True\n",
      "Bi-gram 'se' có thuộc tập Y: False\n"
     ]
    }
   ],
   "source": [
    "# Kiểm tra 'se' thuộc tập X và Y\n",
    "bi_gram_to_check = 'se'\n",
    "is_in_X = bi_gram_to_check in X\n",
    "is_in_Y = bi_gram_to_check in Y\n",
    "\n",
    "print(f\"Bi-gram '{bi_gram_to_check}' có thuộc tập X: {is_in_X}\")\n",
    "print(f\"Bi-gram '{bi_gram_to_check}' có thuộc tập Y: {is_in_Y}\")"
   ]
  },
  {
   "cell_type": "markdown",
   "metadata": {},
   "source": [
    "### 07. Sinh ra câu từ template <br>\n",
    "    Viết hàm số nhận vào 3 biến x, y, z và trả về xâu ký tự “y vào lúc x giờ là z” Sinh ra kết\n",
    "    quả với các giá trị x, y, z sau đây x=”12” y=”Nhiệt độ” z=22.4"
   ]
  },
  {
   "cell_type": "code",
   "execution_count": 27,
   "metadata": {},
   "outputs": [
    {
     "name": "stdout",
     "output_type": "stream",
     "text": [
      "Nhiệt độ vào lúc 12 giờ là 22.4\n"
     ]
    }
   ],
   "source": [
    "def generate_sentence(x, y, z):\n",
    "    sentence = f\"{y} vào lúc {x} giờ là {z}\"\n",
    "    return sentence\n",
    "\n",
    "x = \"12\"\n",
    "y = \"Nhiệt độ\"\n",
    "z = 22.4\n",
    "\n",
    "kq = generate_sentence(x, y, z)\n",
    "print(kq)\n"
   ]
  },
  {
   "cell_type": "markdown",
   "metadata": {},
   "source": [
    "### 08. Xâu mật mã <br>\n",
    "    - Từ các ký tự của một xâu cho trước, cài đặt hàm có tên cipher để mã hoá xâu như sau: <br>\n",
    "        • Nếu là ký tự tiếng Anh ở dạng thường (lower-case characters) thì chuyển thành ký tự có mã là (219 – mã ký tự). <br>\n",
    "        • Các ký tự khác giữ nguyên. <br>\n",
    "    Sử dụng hàm đã viết để mã hoá và giải mã các xâu ký tự tiếng Anh."
   ]
  },
  {
   "cell_type": "code",
   "execution_count": 28,
   "metadata": {},
   "outputs": [
    {
     "name": "stdout",
     "output_type": "stream",
     "text": [
      "Xâu đã mã hoá:  Tiflmt Vzm Tslmt Dvk Tizr Nszg Vf Tif\n",
      "Xâu đã giải mã:  Truong Van Thong Dep Trai Nhat Vu Tru\n"
     ]
    }
   ],
   "source": [
    "def cipher (s):\n",
    "    str = \"\"\n",
    "    for i in s:\n",
    "        if i.islower():\n",
    "            str += chr(219 - ord(i)) \n",
    "        else:\n",
    "            str += i    \n",
    "    return str\n",
    "\n",
    "s = input(\"Nhập xâu: \")\n",
    "print(\"Xâu đã mã hoá: \", cipher(s))\n",
    "print(\"Xâu đã giải mã: \", cipher(cipher(s)))\n",
    "    "
   ]
  },
  {
   "cell_type": "markdown",
   "metadata": {},
   "source": [
    "### 09. Typoglycemia <br>\n",
    "- Cho đầu vào là một câu tiếng Anh bao gồm các word ngăn cách nhau bằng ký tự space. <br>\n",
    "`Viết chương trình thực hiện việc sau:` <br> \n",
    "    • Với mỗi word, giữ nguyên ký tự đầu và ký tự cuối, đảo thứ tự một cách ngẫu nhiên các ký tự còn lại của (tất nhiên các word có ít hơn 4 ký tự thì không cần làm gì) <br>\n",
    "    • Cho trước một câu tiếng Anh hợp lệ, ví dụ “I couldn’t believe that I could actually understand what I was reading : the phenomenal power of the human mind .”, chạy chương trình đã viết để đưa ra kết quả."
   ]
  },
  {
   "cell_type": "code",
   "execution_count": 29,
   "metadata": {},
   "outputs": [
    {
     "name": "stdout",
     "output_type": "stream",
     "text": [
      "I cun’dolt bliveee that I could aallutcy usadrntned waht I was rendiag : the pnehomnael pweor of the hmaun mind .\n"
     ]
    }
   ],
   "source": [
    "\n",
    "def typoglycemia(sentence):\n",
    "    words = sentence.split()  # Tách câu thành danh sách các từ\n",
    "    result = [] # Danh sách các từ đã được xáo trộn\n",
    "\n",
    "    for word in words:\n",
    "        if len(word) > 3:\n",
    "            first_char = word[0]  # Ký tự đầu\n",
    "            last_char = word[-1]  # Ký tự cuối\n",
    "            middle_chars = list(word[1:-1])  # Các ký tự còn lại\n",
    "            random.shuffle(middle_chars)  # Đảo ngẫu nhiên các ký tự còn lại\n",
    "            shuffled_word = first_char + ''.join(middle_chars) + last_char # Tạo từ mới từ các ký tự đã được đảo ngẫu nhiên \n",
    "            result.append(shuffled_word) \n",
    "        else:\n",
    "            result.append(word)\n",
    "    \n",
    "    return ' '.join(result)  # Chuyển danh sách các từ thành câu lại\n",
    "\n",
    "input_sentence = \"I couldn’t believe that I could actually understand what I was reading : the phenomenal power of the human mind .\"\n",
    "output_sentence = typoglycemia(input_sentence)\n",
    "print(output_sentence)"
   ]
  },
  {
   "cell_type": "markdown",
   "metadata": {},
   "source": [
    "### 10. A Markov chain"
   ]
  },
  {
   "cell_type": "markdown",
   "metadata": {},
   "source": [
    "Xây dựng và sử dụng một Markov chain để tạo văn bản mới dựa trên một tệp văn bản đầu vào.\n",
    "1. **Mục tiêu:**\n",
    "   - Tạo một Markov chain dựa trên tệp văn bản đầu vào. Markov chain sẽ lưu trữ thông tin về cặp từ trước và từ tiếp theo trong văn bản.\n",
    "\n",
    "2. **Xây dựng Markov Chain:**\n",
    "   - Khi đọc tệp văn bản đầu vào, tạo một từ điển (dictionary) để đại diện cho Markov chain.\n",
    "   - Đối với mỗi từ, sử dụng cặp từ trước (hai từ trước đó) như khóa (key) và từ tiếp theo là giá trị (value).\n",
    "   - Trường hợp có nhiều từ trong giá trị, giữ một danh sách các từ tương ứng.\n",
    "\n",
    "3. **Tạo Văn Bản Mới:**\n",
    "   - Chọn hai từ đầu tiên của tệp văn bản gốc để làm khóa ban đầu cho việc tạo văn bản mới.\n",
    "   - Từ khóa ban đầu sẽ có giá trị là từ thứ ba trong văn bản mới.\n",
    "   - Nếu giá trị có nhiều từ, một từ sẽ được chọn ngẫu nhiên.\n",
    "   - Tạo khóa mới từ hai từ tiếp theo, và giá trị tương ứng sẽ là từ thứ tư trong văn bản mới.\n",
    "\n",
    "4. **Các Bước Lặp:**\n",
    "   - Thuật toán lặp bằng cách chọn một từ ngẫu nhiên từ giá trị dựa trên từ khóa hai từ trước.\n",
    "   - Từ được chọn được thêm vào văn bản mới, khóa được cập nhật và tiếp tục quá trình.\n",
    "\n",
    "5. **Xử lý Key:**\n",
    "   - Khi cập nhật khóa mới, thay thế của từ khóa luôn có định dạng: Key = Word1 + ' ' + Word2. Word3 = markovChain[Key]. Key = Word2 + ' ' + Word3.\n",
    "\n",
    "6. **Kết thúc văn bản:**\n",
    "   - Nếu một từ khóa không có giá trị trong từ điển, quá trình tạo văn bản kết thúc.\n",
    "   - Vì có thể gây ra vòng lặp vô hạn, giới hạn số từ trong văn bản mới là 500.\n",
    "\n",
    "7. **Xuất Kết Quả:**\n",
    "   - Sau khi tạo văn bản mới, hiển thị kết quả và yêu cầu người dùng nhập tên tệp đầu ra.\n",
    "   - Người dùng có thể chọn bỏ qua văn bản bằng cách không nhập tên tệp, và chương trình sẽ kết thúc.\n",
    "\n",
    "8. **Mục tiêu thực hiện:**\n",
    "   - Đề xuất của đoạn văn là tạo một chương trình Python với các chức năng sau:\n",
    "     1. Nhập tên tệp văn bản đầu vào.\n",
    "     2. Xây dựng danh sách các từ từ tệp văn bản.\n",
    "     3. Tạo Markov chain từ danh sách các từ.\n",
    "     4. Tạo văn bản mới dựa trên Markov chain.\n",
    "     5. Hiển thị kết quả và yêu cầu tên tệp đầu ra."
   ]
  },
  {
   "cell_type": "code",
   "execution_count": 30,
   "metadata": {},
   "outputs": [],
   "source": [
    "# Đọc tệp văn bản đầu vào và tạo danh sách từ\n",
    "def read_text_file(file_path):\n",
    "    '''\n",
    "    Đọc tệp văn bản đầu vào và tạo danh sách từ\n",
    "    :param file_path: đường dẫn tới tệp văn bản đầu vào\n",
    "    :return: danh sách các từ trong văn bản\n",
    "    '''   \n",
    "    \n",
    "    with open(file_path, 'r', encoding='utf-8') as file:\n",
    "        text = file.read()\n",
    "    # Loại bỏ các dấu xuống dòng và chuyển thành chữ thường\n",
    "    words = text.lower().replace('\\n', ' ').split()\n",
    "    # Loại bỏ dấu câu được gắn kèm với từ\n",
    "    words = [word.strip(string.punctuation) for word in words]\n",
    "    return words\n",
    "\n",
    "# Tạo Markov chain từ danh sách các từ\n",
    "def build_markov_chain(words, order=2):\n",
    "    '''\n",
    "    Tạo Markov chain từ danh sách các từ\n",
    "    :param words: danh sách các từ trong văn bản\n",
    "    :param order: số lượng từ trong một khóa\n",
    "    :return: Markov chain\n",
    "\n",
    "    Ví dụ:\n",
    "    text = 'The quick brown fox jumps over the lazy dog.'  \n",
    "    \n",
    "    Output: {'the quick': ['brown'], 'quick brown': ['fox'],...}\n",
    "    '''\n",
    "    \n",
    "    markov_chain = {}\n",
    "    for i in range(len(words) - order): \n",
    "        key = ' '.join(words[i:i+order])\n",
    "        value = words[i+order]  \n",
    "        if key in markov_chain: \n",
    "            markov_chain[key].append(value) \n",
    "        else:\n",
    "            markov_chain[key] = [value]\n",
    "    return markov_chain\n",
    "\n",
    "# Tạo văn bản mới dựa trên Markov chain\n",
    "def generate_text(markov_chain, length=100):\n",
    "    '''\n",
    "    Tạo văn bản mới dựa trên Markov chain\n",
    "    :param markov_chain: Markov chain\n",
    "    :param length: số lượng từ trong văn bản mới\n",
    "    :return: văn bản mới\n",
    "\n",
    "    Ví dụ:\n",
    "    text = 'The quick brown fox jumps over the lazy dog.'\n",
    "    markov_chain = {'the quick': ['brown'], 'quick brown': ['fox'],...}\n",
    "\n",
    "    Output: 'the quick brown fox jumps over the lazy dog. the quick brown fox jumps over the lazy dog. the quick brown fox jumps over the lazy dog.'\n",
    "    '''\n",
    "    \n",
    "    current_key = random.choice(list(markov_chain.keys()))\n",
    "    new_text = current_key\n",
    "    for _ in range(length):\n",
    "        if current_key in markov_chain:\n",
    "            next_word = random.choice(markov_chain[current_key])\n",
    "            new_text += ' ' + next_word\n",
    "            current_key = ' '.join(new_text.split()[-2:])\n",
    "        else:\n",
    "            break\n",
    "    return new_text"
   ]
  },
  {
   "cell_type": "code",
   "execution_count": 31,
   "metadata": {},
   "outputs": [
    {
     "name": "stdout",
     "output_type": "stream",
     "text": [
      "Danh sách từ: ['treasure', 'island', 'is', 'an', 'adventure', 'novel', 'by', 'robert', 'louis', 'stevenson', 'it', 'tells', 'the', 'story', 'of', 'young', 'jim', 'hawkins', 'who', 'finds', 'a', 'treasure', 'map', 'and', 'embarks', 'on', 'a', 'journey', 'to', 'find', 'the', 'hidden', 'treasure', 'the', 'map', 'leads', 'him', 'to', 'a', 'remote', 'island', 'where', 'he', 'encounters', 'pirates', 'danger', 'and', 'the', 'infamous', 'long', 'john', 'silver', 'the', 'novel', 'is', 'filled', 'with', 'swashbuckling', 'action', 'suspense', 'and', 'a', 'quest', 'for', 'riches', \"jim's\", 'courage', 'and', 'resourcefulness', 'are', 'put', 'to', 'the', 'test', 'as', 'he', 'navigates', 'through', 'treacherous', 'waters', 'and', 'faces', 'the', 'cunning', 'and', 'ruthless', 'crew', 'of', 'the', 'ship', 'treasure', 'island', 'is', 'a', 'classic', 'tale', 'of', 'adventure', 'and', 'discovery', 'that', 'has', 'captivated', 'readers', 'for', 'generations']\n",
      "Số từ trong danh sách: 106\n"
     ]
    }
   ],
   "source": [
    "# Đường dẫn tới tệp văn bản đầu vào\n",
    "input_file_path = 'data/TreasureIsland.txt'  \n",
    "\n",
    "# Đọc tệp và tạo danh sách từ\n",
    "words_list = read_text_file(input_file_path)\n",
    "print('Danh sách từ:', words_list)\n",
    "print('Số từ trong danh sách:', len(words_list))"
   ]
  },
  {
   "cell_type": "code",
   "execution_count": 32,
   "metadata": {},
   "outputs": [
    {
     "name": "stdout",
     "output_type": "stream",
     "text": [
      "Markov chain:  {'treasure island': ['is', 'is'], 'island is': ['an', 'a'], 'is an': ['adventure'], 'an adventure': ['novel'], 'adventure novel': ['by'], 'novel by': ['robert'], 'by robert': ['louis'], 'robert louis': ['stevenson'], 'louis stevenson': ['it'], 'stevenson it': ['tells'], 'it tells': ['the'], 'tells the': ['story'], 'the story': ['of'], 'story of': ['young'], 'of young': ['jim'], 'young jim': ['hawkins'], 'jim hawkins': ['who'], 'hawkins who': ['finds'], 'who finds': ['a'], 'finds a': ['treasure'], 'a treasure': ['map'], 'treasure map': ['and'], 'map and': ['embarks'], 'and embarks': ['on'], 'embarks on': ['a'], 'on a': ['journey'], 'a journey': ['to'], 'journey to': ['find'], 'to find': ['the'], 'find the': ['hidden'], 'the hidden': ['treasure'], 'hidden treasure': ['the'], 'treasure the': ['map'], 'the map': ['leads'], 'map leads': ['him'], 'leads him': ['to'], 'him to': ['a'], 'to a': ['remote'], 'a remote': ['island'], 'remote island': ['where'], 'island where': ['he'], 'where he': ['encounters'], 'he encounters': ['pirates'], 'encounters pirates': ['danger'], 'pirates danger': ['and'], 'danger and': ['the'], 'and the': ['infamous'], 'the infamous': ['long'], 'infamous long': ['john'], 'long john': ['silver'], 'john silver': ['the'], 'silver the': ['novel'], 'the novel': ['is'], 'novel is': ['filled'], 'is filled': ['with'], 'filled with': ['swashbuckling'], 'with swashbuckling': ['action'], 'swashbuckling action': ['suspense'], 'action suspense': ['and'], 'suspense and': ['a'], 'and a': ['quest'], 'a quest': ['for'], 'quest for': ['riches'], 'for riches': [\"jim's\"], \"riches jim's\": ['courage'], \"jim's courage\": ['and'], 'courage and': ['resourcefulness'], 'and resourcefulness': ['are'], 'resourcefulness are': ['put'], 'are put': ['to'], 'put to': ['the'], 'to the': ['test'], 'the test': ['as'], 'test as': ['he'], 'as he': ['navigates'], 'he navigates': ['through'], 'navigates through': ['treacherous'], 'through treacherous': ['waters'], 'treacherous waters': ['and'], 'waters and': ['faces'], 'and faces': ['the'], 'faces the': ['cunning'], 'the cunning': ['and'], 'cunning and': ['ruthless'], 'and ruthless': ['crew'], 'ruthless crew': ['of'], 'crew of': ['the'], 'of the': ['ship'], 'the ship': ['treasure'], 'ship treasure': ['island'], 'is a': ['classic'], 'a classic': ['tale'], 'classic tale': ['of'], 'tale of': ['adventure'], 'of adventure': ['and'], 'adventure and': ['discovery'], 'and discovery': ['that'], 'discovery that': ['has'], 'that has': ['captivated'], 'has captivated': ['readers'], 'captivated readers': ['for'], 'readers for': ['generations']}\n"
     ]
    }
   ],
   "source": [
    "# Xây dựng Markov chain từ danh sách từ\n",
    "markov_chain = build_markov_chain(words_list)\n",
    "\n",
    "print(\"Markov chain: \", markov_chain)"
   ]
  },
  {
   "cell_type": "code",
   "execution_count": 33,
   "metadata": {},
   "outputs": [
    {
     "name": "stdout",
     "output_type": "stream",
     "text": [
      "Văn bản mới dựa trên Markov chain: \n",
      " on a journey to find the hidden treasure the map leads him to a remote island where he encounters pirates danger and the infamous long john silver the novel is filled with swashbuckling action suspense and a quest for riches jim's courage and resourcefulness are put to the test as he navigates through treacherous waters and faces the cunning and ruthless crew of the ship treasure island is an adventure novel by robert louis stevenson it tells the story of young jim hawkins who finds a treasure map and embarks on a journey to find the hidden treasure the map leads him to a remote island where he encounters pirates danger and the infamous long john silver the novel is filled with swashbuckling action suspense and a quest for riches jim's courage and resourcefulness are put to the test as he navigates through treacherous waters and faces the cunning and ruthless crew of the ship treasure island is an adventure novel by robert louis stevenson it tells the story of young jim hawkins who finds a treasure map and embarks on a journey to find the hidden treasure the map leads him to a remote island where he encounters pirates danger and\n"
     ]
    }
   ],
   "source": [
    "# Số từ trong văn bản mới\n",
    "output_length = 200\n",
    "\n",
    "# Tạo văn bản mới dựa trên Markov chain\n",
    "generated_text = generate_text(markov_chain, output_length)\n",
    "\n",
    "# Hiển thị kết quả\n",
    "print(\"Văn bản mới dựa trên Markov chain: \\n\", generated_text)"
   ]
  }
 ],
 "metadata": {
  "kernelspec": {
   "display_name": ".venv",
   "language": "python",
   "name": "python3"
  },
  "language_info": {
   "codemirror_mode": {
    "name": "ipython",
    "version": 3
   },
   "file_extension": ".py",
   "mimetype": "text/x-python",
   "name": "python",
   "nbconvert_exporter": "python",
   "pygments_lexer": "ipython3",
   "version": "3.10.8"
  },
  "orig_nbformat": 4
 },
 "nbformat": 4,
 "nbformat_minor": 2
}
